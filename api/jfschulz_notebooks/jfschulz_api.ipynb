{
 "cells": [
  {
   "cell_type": "code",
   "execution_count": 39,
   "id": "353c737e",
   "metadata": {},
   "outputs": [],
   "source": [
    "import pandas as pd\n",
    "import os\n",
    "from sklearn.model_selection import train_test_split, cross_validate\n",
    "from sklearn.linear_model import SGDClassifier"
   ]
  },
  {
   "cell_type": "markdown",
   "id": "48554cdc",
   "metadata": {},
   "source": [
    "# Load Dataset"
   ]
  },
  {
   "cell_type": "code",
   "execution_count": 4,
   "id": "811b90c5",
   "metadata": {},
   "outputs": [
    {
     "data": {
      "text/plain": [
       "'/home/jana/code/jfschulz/project-brain-proteomics/brain_proteomics/api/jfschulz_notebooks'"
      ]
     },
     "execution_count": 4,
     "metadata": {},
     "output_type": "execute_result"
    }
   ],
   "source": [
    "os.getcwd()"
   ]
  },
  {
   "cell_type": "code",
   "execution_count": 24,
   "id": "6cc0bb7c",
   "metadata": {},
   "outputs": [
    {
     "data": {
      "text/html": [
       "<div>\n",
       "<style scoped>\n",
       "    .dataframe tbody tr th:only-of-type {\n",
       "        vertical-align: middle;\n",
       "    }\n",
       "\n",
       "    .dataframe tbody tr th {\n",
       "        vertical-align: top;\n",
       "    }\n",
       "\n",
       "    .dataframe thead th {\n",
       "        text-align: right;\n",
       "    }\n",
       "</style>\n",
       "<table border=\"1\" class=\"dataframe\">\n",
       "  <thead>\n",
       "    <tr style=\"text-align: right;\">\n",
       "      <th></th>\n",
       "      <th>Case</th>\n",
       "      <th>years_to_birth</th>\n",
       "      <th>gender</th>\n",
       "      <th>histological_type</th>\n",
       "      <th>race</th>\n",
       "      <th>ethnicity</th>\n",
       "      <th>radiation_therapy</th>\n",
       "      <th>Grade</th>\n",
       "      <th>Mutation.Count</th>\n",
       "      <th>Percent.aneuploidy</th>\n",
       "      <th>...</th>\n",
       "      <th>p27_p</th>\n",
       "      <th>p27_pT157_p</th>\n",
       "      <th>p27_pT198_p</th>\n",
       "      <th>p38_pT180_Y182_p</th>\n",
       "      <th>p53_p</th>\n",
       "      <th>p62-LCK-ligand_p</th>\n",
       "      <th>p70S6K_p</th>\n",
       "      <th>p70S6K_pT389_p</th>\n",
       "      <th>p90RSK_p</th>\n",
       "      <th>p90RSK_pT359_S363_p</th>\n",
       "    </tr>\n",
       "  </thead>\n",
       "  <tbody>\n",
       "    <tr>\n",
       "      <th>0</th>\n",
       "      <td>TCGA-CS-4938</td>\n",
       "      <td>31</td>\n",
       "      <td>female</td>\n",
       "      <td>astrocytoma</td>\n",
       "      <td>white</td>\n",
       "      <td>not hispanic or latino</td>\n",
       "      <td>no</td>\n",
       "      <td>G2</td>\n",
       "      <td>15</td>\n",
       "      <td>0.069412</td>\n",
       "      <td>...</td>\n",
       "      <td>-0.425127</td>\n",
       "      <td>-0.033398</td>\n",
       "      <td>0.289192</td>\n",
       "      <td>1.060163</td>\n",
       "      <td>-0.407456</td>\n",
       "      <td>-0.470354</td>\n",
       "      <td>-0.107559</td>\n",
       "      <td>-0.060441</td>\n",
       "      <td>-0.053104</td>\n",
       "      <td>-0.011132</td>\n",
       "    </tr>\n",
       "    <tr>\n",
       "      <th>1</th>\n",
       "      <td>TCGA-CS-6665</td>\n",
       "      <td>51</td>\n",
       "      <td>female</td>\n",
       "      <td>astrocytoma</td>\n",
       "      <td>white</td>\n",
       "      <td>not hispanic or latino</td>\n",
       "      <td>yes</td>\n",
       "      <td>G3</td>\n",
       "      <td>75</td>\n",
       "      <td>0.524814</td>\n",
       "      <td>...</td>\n",
       "      <td>0.076536</td>\n",
       "      <td>0.011809</td>\n",
       "      <td>-0.047973</td>\n",
       "      <td>-0.054275</td>\n",
       "      <td>-0.244020</td>\n",
       "      <td>0.106282</td>\n",
       "      <td>-0.034369</td>\n",
       "      <td>0.585072</td>\n",
       "      <td>0.431720</td>\n",
       "      <td>-0.201412</td>\n",
       "    </tr>\n",
       "    <tr>\n",
       "      <th>2</th>\n",
       "      <td>TCGA-CS-6666</td>\n",
       "      <td>22</td>\n",
       "      <td>male</td>\n",
       "      <td>astrocytoma</td>\n",
       "      <td>white</td>\n",
       "      <td>not hispanic or latino</td>\n",
       "      <td>yes</td>\n",
       "      <td>G3</td>\n",
       "      <td>18</td>\n",
       "      <td>0.403165</td>\n",
       "      <td>...</td>\n",
       "      <td>0.110268</td>\n",
       "      <td>0.066886</td>\n",
       "      <td>-0.066150</td>\n",
       "      <td>0.250434</td>\n",
       "      <td>0.432187</td>\n",
       "      <td>-0.210412</td>\n",
       "      <td>0.290949</td>\n",
       "      <td>-0.893383</td>\n",
       "      <td>-0.693677</td>\n",
       "      <td>-0.055250</td>\n",
       "    </tr>\n",
       "    <tr>\n",
       "      <th>3</th>\n",
       "      <td>TCGA-DB-5270</td>\n",
       "      <td>38</td>\n",
       "      <td>female</td>\n",
       "      <td>oligoastrocytoma</td>\n",
       "      <td>white</td>\n",
       "      <td>not hispanic or latino</td>\n",
       "      <td>no</td>\n",
       "      <td>G3</td>\n",
       "      <td>16</td>\n",
       "      <td>0.061382</td>\n",
       "      <td>...</td>\n",
       "      <td>-0.235321</td>\n",
       "      <td>0.015372</td>\n",
       "      <td>-0.127422</td>\n",
       "      <td>-1.190789</td>\n",
       "      <td>0.105396</td>\n",
       "      <td>0.218569</td>\n",
       "      <td>-0.099136</td>\n",
       "      <td>1.990618</td>\n",
       "      <td>0.166788</td>\n",
       "      <td>-0.235380</td>\n",
       "    </tr>\n",
       "    <tr>\n",
       "      <th>4</th>\n",
       "      <td>TCGA-DB-5273</td>\n",
       "      <td>33</td>\n",
       "      <td>male</td>\n",
       "      <td>astrocytoma</td>\n",
       "      <td>white</td>\n",
       "      <td>not hispanic or latino</td>\n",
       "      <td>yes</td>\n",
       "      <td>G3</td>\n",
       "      <td>16</td>\n",
       "      <td>0.017349</td>\n",
       "      <td>...</td>\n",
       "      <td>-0.343212</td>\n",
       "      <td>-0.250564</td>\n",
       "      <td>-0.234582</td>\n",
       "      <td>0.648598</td>\n",
       "      <td>-0.071851</td>\n",
       "      <td>-0.041811</td>\n",
       "      <td>-0.099300</td>\n",
       "      <td>-0.920359</td>\n",
       "      <td>-0.243159</td>\n",
       "      <td>-0.128841</td>\n",
       "    </tr>\n",
       "  </tbody>\n",
       "</table>\n",
       "<p>5 rows × 186 columns</p>\n",
       "</div>"
      ],
      "text/plain": [
       "           Case  years_to_birth  gender histological_type   race  \\\n",
       "0  TCGA-CS-4938              31  female       astrocytoma  white   \n",
       "1  TCGA-CS-6665              51  female       astrocytoma  white   \n",
       "2  TCGA-CS-6666              22    male       astrocytoma  white   \n",
       "3  TCGA-DB-5270              38  female  oligoastrocytoma  white   \n",
       "4  TCGA-DB-5273              33    male       astrocytoma  white   \n",
       "\n",
       "                ethnicity radiation_therapy Grade  Mutation.Count  \\\n",
       "0  not hispanic or latino                no    G2              15   \n",
       "1  not hispanic or latino               yes    G3              75   \n",
       "2  not hispanic or latino               yes    G3              18   \n",
       "3  not hispanic or latino                no    G3              16   \n",
       "4  not hispanic or latino               yes    G3              16   \n",
       "\n",
       "   Percent.aneuploidy  ...     p27_p  p27_pT157_p  p27_pT198_p  \\\n",
       "0            0.069412  ... -0.425127    -0.033398     0.289192   \n",
       "1            0.524814  ...  0.076536     0.011809    -0.047973   \n",
       "2            0.403165  ...  0.110268     0.066886    -0.066150   \n",
       "3            0.061382  ... -0.235321     0.015372    -0.127422   \n",
       "4            0.017349  ... -0.343212    -0.250564    -0.234582   \n",
       "\n",
       "   p38_pT180_Y182_p     p53_p  p62-LCK-ligand_p  p70S6K_p  p70S6K_pT389_p  \\\n",
       "0          1.060163 -0.407456         -0.470354 -0.107559       -0.060441   \n",
       "1         -0.054275 -0.244020          0.106282 -0.034369        0.585072   \n",
       "2          0.250434  0.432187         -0.210412  0.290949       -0.893383   \n",
       "3         -1.190789  0.105396          0.218569 -0.099136        1.990618   \n",
       "4          0.648598 -0.071851         -0.041811 -0.099300       -0.920359   \n",
       "\n",
       "   p90RSK_p  p90RSK_pT359_S363_p  \n",
       "0 -0.053104            -0.011132  \n",
       "1  0.431720            -0.201412  \n",
       "2 -0.693677            -0.055250  \n",
       "3  0.166788            -0.235380  \n",
       "4 -0.243159            -0.128841  \n",
       "\n",
       "[5 rows x 186 columns]"
      ]
     },
     "execution_count": 24,
     "metadata": {},
     "output_type": "execute_result"
    }
   ],
   "source": [
    "path = \"/home/jana/code/jfschulz/project-brain-proteomics/raw_data\"\n",
    "file = \"Glioma-clinic-TCGA-proteins.csv\" \n",
    "df = pd.read_csv(f\"{path}/{file}\", header=0)\n",
    "#df = pd.read_csv(path)\n",
    "df.head()"
   ]
  },
  {
   "cell_type": "code",
   "execution_count": 43,
   "id": "70bb2a5b",
   "metadata": {},
   "outputs": [
    {
     "data": {
      "text/plain": [
       "array(['astrocytoma', 'oligoastrocytoma', 'oligodendroglioma'],\n",
       "      dtype=object)"
      ]
     },
     "execution_count": 43,
     "metadata": {},
     "output_type": "execute_result"
    }
   ],
   "source": [
    "#df.info(verbose=True, show_counts=True)\n",
    "df[\"histological_type\"].unique()"
   ]
  },
  {
   "cell_type": "markdown",
   "id": "6ef5ef7d",
   "metadata": {},
   "source": [
    "# Preprocess"
   ]
  },
  {
   "cell_type": "markdown",
   "id": "01198d65",
   "metadata": {},
   "source": [
    "# Build Model"
   ]
  },
  {
   "cell_type": "code",
   "execution_count": 37,
   "id": "c437fa8e",
   "metadata": {},
   "outputs": [],
   "source": [
    "# Define target and features\n",
    "cols_to_drop = ['Case', 'years_to_birth', 'gender', 'histological_type', 'race',\n",
    "       'ethnicity', 'radiation_therapy', 'Grade', 'Mutation.Count',\n",
    "       'Percent.aneuploidy', 'IDH.status', 'outcome']\n",
    "X = df.drop(cols_to_drop, axis = 1)\n",
    "y = df[\"outcome\"]"
   ]
  },
  {
   "cell_type": "code",
   "execution_count": 33,
   "id": "0d872bc1",
   "metadata": {},
   "outputs": [
    {
     "data": {
      "text/plain": [
       "Index(['Case', 'years_to_birth', 'gender', 'histological_type', 'race',\n",
       "       'ethnicity', 'radiation_therapy', 'Grade', 'Mutation.Count',\n",
       "       'Percent.aneuploidy', 'IDH.status', 'outcome', '14-3-3_beta_p'],\n",
       "      dtype='object')"
      ]
     },
     "execution_count": 33,
     "metadata": {},
     "output_type": "execute_result"
    }
   ],
   "source": [
    "X.info(verbose=True, show_counts=True)"
   ]
  },
  {
   "cell_type": "code",
   "execution_count": 44,
   "id": "4a7f94ae",
   "metadata": {},
   "outputs": [],
   "source": [
    "# Create train and test data\n",
    "X_train, X_test, y_train, y_test = train_test_split(X, y, test_size=0.2)\n",
    "\n",
    "# Initialize model\n",
    "model = "
   ]
  },
  {
   "cell_type": "code",
   "execution_count": 48,
   "id": "1b1a0766",
   "metadata": {},
   "outputs": [
    {
     "data": {
      "text/plain": [
       "(62, 174)"
      ]
     },
     "execution_count": 48,
     "metadata": {},
     "output_type": "execute_result"
    }
   ],
   "source": []
  }
 ],
 "metadata": {
  "kernelspec": {
   "display_name": "Python 3 (ipykernel)",
   "language": "python",
   "name": "python3"
  },
  "language_info": {
   "codemirror_mode": {
    "name": "ipython",
    "version": 3
   },
   "file_extension": ".py",
   "mimetype": "text/x-python",
   "name": "python",
   "nbconvert_exporter": "python",
   "pygments_lexer": "ipython3",
   "version": "3.10.6"
  },
  "toc": {
   "base_numbering": 1,
   "nav_menu": {},
   "number_sections": true,
   "sideBar": true,
   "skip_h1_title": false,
   "title_cell": "Table of Contents",
   "title_sidebar": "Contents",
   "toc_cell": false,
   "toc_position": {},
   "toc_section_display": true,
   "toc_window_display": false
  }
 },
 "nbformat": 4,
 "nbformat_minor": 5
}
